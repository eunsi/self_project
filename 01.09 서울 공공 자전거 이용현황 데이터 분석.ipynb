{
 "cells": [
  {
   "cell_type": "markdown",
   "metadata": {
    "id": "Xi_yurwiORB7"
   },
   "source": [
    "# 서울 공공 자전거 이용 현황 데이터 분석"
   ]
  },
  {
   "cell_type": "markdown",
   "metadata": {
    "id": "9D-jtyRW6hjJ"
   },
   "source": [
    "<img src='https://raw.githubusercontent.com/Jangrae/img/master/seoul_bike.png' width=\"650\" align=\"left\">"
   ]
  },
  {
   "cell_type": "markdown",
   "metadata": {
    "id": "PK8ZI9P5mRV8"
   },
   "source": [
    "**1) 한글 설정**"
   ]
  },
  {
   "cell_type": "code",
   "execution_count": 1,
   "metadata": {
    "id": "lyk2U1RZmRV9"
   },
   "outputs": [],
   "source": [
    "# 라이브러리 불러오기\n",
    "import matplotlib \n",
    "import matplotlib.pyplot as plt\n",
    "\n",
    "# 폰트설정\n",
    "matplotlib.font_manager._rebuild()\n",
    "plt.rc('font', family='Malgun Gothic')\n",
    "plt.rcParams['axes.unicode_minus'] = False"
   ]
  },
  {
   "cell_type": "markdown",
   "metadata": {
    "id": "0uNXxebRGrd8"
   },
   "source": [
    "**2) 라이브러리 불러오기**"
   ]
  },
  {
   "cell_type": "code",
   "execution_count": 2,
   "metadata": {
    "id": "p3lUS_fyqvnh"
   },
   "outputs": [],
   "source": [
    "# 라이브러리 불러오기\n",
    "import numpy as np\n",
    "import pandas as pd\n",
    "import matplotlib.pyplot as plt\n",
    "\n",
    "%config InlineBackend.figure_format = 'retina'"
   ]
  },
  {
   "cell_type": "markdown",
   "metadata": {
    "id": "ul8zKgxCqvnh"
   },
   "source": [
    "**3) 데이터 읽어오기**"
   ]
  },
  {
   "cell_type": "code",
   "execution_count": 4,
   "metadata": {
    "id": "enhGxkyt0KcI"
   },
   "outputs": [],
   "source": [
    "# 데이터 읽어오기\n",
    "\n",
    "path = 'https://bit.ly/SeoulBikeFile'\n",
    "bike = pd.read_csv(path,encoding='CP949')"
   ]
  },
  {
   "cell_type": "markdown",
   "metadata": {
    "id": "1O_usuOg0KcP"
   },
   "source": [
    "## 2.데이터 탐색"
   ]
  },
  {
   "cell_type": "markdown",
   "metadata": {
    "id": "Lxus78Ii0KcR"
   },
   "source": [
    "**1) 상/하위 데이터 확인**"
   ]
  },
  {
   "cell_type": "code",
   "execution_count": 5,
   "metadata": {
    "id": "L10e2SPG0KcS",
    "scrolled": true
   },
   "outputs": [
    {
     "data": {
      "text/html": [
       "<div>\n",
       "<style scoped>\n",
       "    .dataframe tbody tr th:only-of-type {\n",
       "        vertical-align: middle;\n",
       "    }\n",
       "\n",
       "    .dataframe tbody tr th {\n",
       "        vertical-align: top;\n",
       "    }\n",
       "\n",
       "    .dataframe thead th {\n",
       "        text-align: right;\n",
       "    }\n",
       "</style>\n",
       "<table border=\"1\" class=\"dataframe\">\n",
       "  <thead>\n",
       "    <tr style=\"text-align: right;\">\n",
       "      <th></th>\n",
       "      <th>대여일자</th>\n",
       "      <th>대여소번호</th>\n",
       "      <th>대여소명</th>\n",
       "      <th>대여구분코드</th>\n",
       "      <th>성별</th>\n",
       "      <th>연령대코드</th>\n",
       "      <th>이용건수</th>\n",
       "      <th>운동량</th>\n",
       "      <th>탄소량</th>\n",
       "      <th>이동거리(M)</th>\n",
       "      <th>이용시간(분)</th>\n",
       "    </tr>\n",
       "  </thead>\n",
       "  <tbody>\n",
       "    <tr>\n",
       "      <th>0</th>\n",
       "      <td>2021-06</td>\n",
       "      <td>3</td>\n",
       "      <td>중랑센터</td>\n",
       "      <td>일일(회원)</td>\n",
       "      <td>F</td>\n",
       "      <td>AGE_003</td>\n",
       "      <td>1</td>\n",
       "      <td>11.23</td>\n",
       "      <td>0.12</td>\n",
       "      <td>506.18</td>\n",
       "      <td>17</td>\n",
       "    </tr>\n",
       "    <tr>\n",
       "      <th>1</th>\n",
       "      <td>2021-06</td>\n",
       "      <td>3</td>\n",
       "      <td>중랑센터</td>\n",
       "      <td>정기</td>\n",
       "      <td>NaN</td>\n",
       "      <td>AGE_003</td>\n",
       "      <td>2</td>\n",
       "      <td>107.00</td>\n",
       "      <td>0.79</td>\n",
       "      <td>3377.56</td>\n",
       "      <td>17</td>\n",
       "    </tr>\n",
       "    <tr>\n",
       "      <th>2</th>\n",
       "      <td>2021-06</td>\n",
       "      <td>3</td>\n",
       "      <td>중랑센터</td>\n",
       "      <td>정기</td>\n",
       "      <td>M</td>\n",
       "      <td>AGE_002</td>\n",
       "      <td>6</td>\n",
       "      <td>352.15</td>\n",
       "      <td>3.18</td>\n",
       "      <td>13680.88</td>\n",
       "      <td>81</td>\n",
       "    </tr>\n",
       "    <tr>\n",
       "      <th>3</th>\n",
       "      <td>2021-06</td>\n",
       "      <td>3</td>\n",
       "      <td>중랑센터</td>\n",
       "      <td>정기</td>\n",
       "      <td>M</td>\n",
       "      <td>AGE_004</td>\n",
       "      <td>3</td>\n",
       "      <td>61.55</td>\n",
       "      <td>0.50</td>\n",
       "      <td>2158.72</td>\n",
       "      <td>21</td>\n",
       "    </tr>\n",
       "    <tr>\n",
       "      <th>4</th>\n",
       "      <td>2021-06</td>\n",
       "      <td>3</td>\n",
       "      <td>중랑센터</td>\n",
       "      <td>정기</td>\n",
       "      <td>M</td>\n",
       "      <td>AGE_005</td>\n",
       "      <td>3</td>\n",
       "      <td>125.30</td>\n",
       "      <td>1.10</td>\n",
       "      <td>4722.60</td>\n",
       "      <td>36</td>\n",
       "    </tr>\n",
       "  </tbody>\n",
       "</table>\n",
       "</div>"
      ],
      "text/plain": [
       "      대여일자  대여소번호  대여소명  대여구분코드   성별    연령대코드  이용건수     운동량   탄소량   이동거리(M)  \\\n",
       "0  2021-06      3  중랑센터  일일(회원)    F  AGE_003     1   11.23  0.12    506.18   \n",
       "1  2021-06      3  중랑센터      정기  NaN  AGE_003     2  107.00  0.79   3377.56   \n",
       "2  2021-06      3  중랑센터      정기    M  AGE_002     6  352.15  3.18  13680.88   \n",
       "3  2021-06      3  중랑센터      정기    M  AGE_004     3   61.55  0.50   2158.72   \n",
       "4  2021-06      3  중랑센터      정기    M  AGE_005     3  125.30  1.10   4722.60   \n",
       "\n",
       "   이용시간(분)  \n",
       "0       17  \n",
       "1       17  \n",
       "2       81  \n",
       "3       21  \n",
       "4       36  "
      ]
     },
     "execution_count": 5,
     "metadata": {},
     "output_type": "execute_result"
    }
   ],
   "source": [
    "# 상위 5개 행 확인\n",
    "bike.head(5)"
   ]
  },
  {
   "cell_type": "code",
   "execution_count": 6,
   "metadata": {
    "id": "r6tiodOr0KcZ",
    "scrolled": true
   },
   "outputs": [
    {
     "data": {
      "text/html": [
       "<div>\n",
       "<style scoped>\n",
       "    .dataframe tbody tr th:only-of-type {\n",
       "        vertical-align: middle;\n",
       "    }\n",
       "\n",
       "    .dataframe tbody tr th {\n",
       "        vertical-align: top;\n",
       "    }\n",
       "\n",
       "    .dataframe thead th {\n",
       "        text-align: right;\n",
       "    }\n",
       "</style>\n",
       "<table border=\"1\" class=\"dataframe\">\n",
       "  <thead>\n",
       "    <tr style=\"text-align: right;\">\n",
       "      <th></th>\n",
       "      <th>대여일자</th>\n",
       "      <th>대여소번호</th>\n",
       "      <th>대여소명</th>\n",
       "      <th>대여구분코드</th>\n",
       "      <th>성별</th>\n",
       "      <th>연령대코드</th>\n",
       "      <th>이용건수</th>\n",
       "      <th>운동량</th>\n",
       "      <th>탄소량</th>\n",
       "      <th>이동거리(M)</th>\n",
       "      <th>이용시간(분)</th>\n",
       "    </tr>\n",
       "  </thead>\n",
       "  <tbody>\n",
       "    <tr>\n",
       "      <th>119855</th>\n",
       "      <td>2021-06</td>\n",
       "      <td>88888</td>\n",
       "      <td>88888.영남배송</td>\n",
       "      <td>정기</td>\n",
       "      <td>F</td>\n",
       "      <td>AGE_002</td>\n",
       "      <td>1</td>\n",
       "      <td>0.00</td>\n",
       "      <td>0.00</td>\n",
       "      <td>0.00</td>\n",
       "      <td>9</td>\n",
       "    </tr>\n",
       "    <tr>\n",
       "      <th>119856</th>\n",
       "      <td>2021-06</td>\n",
       "      <td>88888</td>\n",
       "      <td>88888.영남배송</td>\n",
       "      <td>정기</td>\n",
       "      <td>M</td>\n",
       "      <td>AGE_002</td>\n",
       "      <td>2</td>\n",
       "      <td>218.93</td>\n",
       "      <td>1.97</td>\n",
       "      <td>8505.59</td>\n",
       "      <td>79</td>\n",
       "    </tr>\n",
       "    <tr>\n",
       "      <th>119857</th>\n",
       "      <td>2021-06</td>\n",
       "      <td>88888</td>\n",
       "      <td>88888.영남배송</td>\n",
       "      <td>정기</td>\n",
       "      <td>M</td>\n",
       "      <td>AGE_003</td>\n",
       "      <td>1</td>\n",
       "      <td>8.32</td>\n",
       "      <td>0.07</td>\n",
       "      <td>283.84</td>\n",
       "      <td>41</td>\n",
       "    </tr>\n",
       "    <tr>\n",
       "      <th>119858</th>\n",
       "      <td>2021-06</td>\n",
       "      <td>99997</td>\n",
       "      <td>도봉정비센터</td>\n",
       "      <td>일일(회원)</td>\n",
       "      <td>M</td>\n",
       "      <td>AGE_005</td>\n",
       "      <td>1</td>\n",
       "      <td>NaN</td>\n",
       "      <td>NaN</td>\n",
       "      <td>0.00</td>\n",
       "      <td>4</td>\n",
       "    </tr>\n",
       "    <tr>\n",
       "      <th>119859</th>\n",
       "      <td>2021-06</td>\n",
       "      <td>99999</td>\n",
       "      <td>99999. 영남단말기정비</td>\n",
       "      <td>정기</td>\n",
       "      <td>NaN</td>\n",
       "      <td>AGE_008</td>\n",
       "      <td>6</td>\n",
       "      <td>0.00</td>\n",
       "      <td>0.00</td>\n",
       "      <td>0.00</td>\n",
       "      <td>235</td>\n",
       "    </tr>\n",
       "  </tbody>\n",
       "</table>\n",
       "</div>"
      ],
      "text/plain": [
       "           대여일자  대여소번호            대여소명  대여구분코드   성별    연령대코드  이용건수     운동량  \\\n",
       "119855  2021-06  88888      88888.영남배송      정기    F  AGE_002     1    0.00   \n",
       "119856  2021-06  88888      88888.영남배송      정기    M  AGE_002     2  218.93   \n",
       "119857  2021-06  88888      88888.영남배송      정기    M  AGE_003     1    8.32   \n",
       "119858  2021-06  99997          도봉정비센터  일일(회원)    M  AGE_005     1     NaN   \n",
       "119859  2021-06  99999  99999. 영남단말기정비      정기  NaN  AGE_008     6    0.00   \n",
       "\n",
       "         탄소량  이동거리(M)  이용시간(분)  \n",
       "119855  0.00     0.00        9  \n",
       "119856  1.97  8505.59       79  \n",
       "119857  0.07   283.84       41  \n",
       "119858   NaN     0.00        4  \n",
       "119859  0.00     0.00      235  "
      ]
     },
     "execution_count": 6,
     "metadata": {},
     "output_type": "execute_result"
    }
   ],
   "source": [
    "# 하위 5개 행 확인\n",
    "bike.tail(5)"
   ]
  },
  {
   "cell_type": "markdown",
   "metadata": {
    "id": "KXhMyTdu0Kcf"
   },
   "source": [
    "**2) 열 데이터 형식, 값 개수**"
   ]
  },
  {
   "cell_type": "code",
   "execution_count": 9,
   "metadata": {
    "id": "1YeG0s8p0Kcg",
    "scrolled": false
   },
   "outputs": [
    {
     "data": {
      "text/plain": [
       "Index(['대여일자', '대여소번호', '대여소명', '대여구분코드', '성별', '연령대코드', '이용건수', '운동량', '탄소량',\n",
       "       '이동거리(M)', '이용시간(분)'],\n",
       "      dtype='object')"
      ]
     },
     "execution_count": 9,
     "metadata": {},
     "output_type": "execute_result"
    }
   ],
   "source": [
    "# 열 정보 확인\n",
    "bike.columns"
   ]
  },
  {
   "cell_type": "markdown",
   "metadata": {
    "id": "AAxqBZJhfjDY"
   },
   "source": [
    "**3) 기초통계정보 확인**\n"
   ]
  },
  {
   "cell_type": "code",
   "execution_count": 11,
   "metadata": {
    "id": "l_rRFp8QvGs_",
    "scrolled": false
   },
   "outputs": [
    {
     "data": {
      "text/html": [
       "<div>\n",
       "<style scoped>\n",
       "    .dataframe tbody tr th:only-of-type {\n",
       "        vertical-align: middle;\n",
       "    }\n",
       "\n",
       "    .dataframe tbody tr th {\n",
       "        vertical-align: top;\n",
       "    }\n",
       "\n",
       "    .dataframe thead th {\n",
       "        text-align: right;\n",
       "    }\n",
       "</style>\n",
       "<table border=\"1\" class=\"dataframe\">\n",
       "  <thead>\n",
       "    <tr style=\"text-align: right;\">\n",
       "      <th></th>\n",
       "      <th>대여소번호</th>\n",
       "      <th>이용건수</th>\n",
       "      <th>운동량</th>\n",
       "      <th>탄소량</th>\n",
       "      <th>이동거리(M)</th>\n",
       "      <th>이용시간(분)</th>\n",
       "    </tr>\n",
       "  </thead>\n",
       "  <tbody>\n",
       "    <tr>\n",
       "      <th>count</th>\n",
       "      <td>119860.000000</td>\n",
       "      <td>119860.000000</td>\n",
       "      <td>1.196980e+05</td>\n",
       "      <td>119698.000000</td>\n",
       "      <td>1.198600e+05</td>\n",
       "      <td>119860.000000</td>\n",
       "    </tr>\n",
       "    <tr>\n",
       "      <th>mean</th>\n",
       "      <td>1902.517437</td>\n",
       "      <td>28.870407</td>\n",
       "      <td>8.869655e+03</td>\n",
       "      <td>20.455260</td>\n",
       "      <td>8.805111e+04</td>\n",
       "      <td>749.706699</td>\n",
       "    </tr>\n",
       "    <tr>\n",
       "      <th>std</th>\n",
       "      <td>1453.116590</td>\n",
       "      <td>56.813723</td>\n",
       "      <td>1.335818e+06</td>\n",
       "      <td>42.948015</td>\n",
       "      <td>1.850256e+05</td>\n",
       "      <td>1504.361808</td>\n",
       "    </tr>\n",
       "    <tr>\n",
       "      <th>min</th>\n",
       "      <td>3.000000</td>\n",
       "      <td>1.000000</td>\n",
       "      <td>0.000000e+00</td>\n",
       "      <td>0.000000</td>\n",
       "      <td>0.000000e+00</td>\n",
       "      <td>0.000000</td>\n",
       "    </tr>\n",
       "    <tr>\n",
       "      <th>25%</th>\n",
       "      <td>806.000000</td>\n",
       "      <td>3.000000</td>\n",
       "      <td>2.032625e+02</td>\n",
       "      <td>1.840000</td>\n",
       "      <td>7.870930e+03</td>\n",
       "      <td>76.000000</td>\n",
       "    </tr>\n",
       "    <tr>\n",
       "      <th>50%</th>\n",
       "      <td>1640.000000</td>\n",
       "      <td>9.000000</td>\n",
       "      <td>7.376450e+02</td>\n",
       "      <td>6.590000</td>\n",
       "      <td>2.830418e+04</td>\n",
       "      <td>255.000000</td>\n",
       "    </tr>\n",
       "    <tr>\n",
       "      <th>75%</th>\n",
       "      <td>2654.000000</td>\n",
       "      <td>30.000000</td>\n",
       "      <td>2.454695e+03</td>\n",
       "      <td>21.720000</td>\n",
       "      <td>9.339718e+04</td>\n",
       "      <td>812.000000</td>\n",
       "    </tr>\n",
       "    <tr>\n",
       "      <th>max</th>\n",
       "      <td>99999.000000</td>\n",
       "      <td>1617.000000</td>\n",
       "      <td>4.000089e+08</td>\n",
       "      <td>2376.180000</td>\n",
       "      <td>1.024219e+07</td>\n",
       "      <td>87111.000000</td>\n",
       "    </tr>\n",
       "  </tbody>\n",
       "</table>\n",
       "</div>"
      ],
      "text/plain": [
       "               대여소번호           이용건수           운동량            탄소량  \\\n",
       "count  119860.000000  119860.000000  1.196980e+05  119698.000000   \n",
       "mean     1902.517437      28.870407  8.869655e+03      20.455260   \n",
       "std      1453.116590      56.813723  1.335818e+06      42.948015   \n",
       "min         3.000000       1.000000  0.000000e+00       0.000000   \n",
       "25%       806.000000       3.000000  2.032625e+02       1.840000   \n",
       "50%      1640.000000       9.000000  7.376450e+02       6.590000   \n",
       "75%      2654.000000      30.000000  2.454695e+03      21.720000   \n",
       "max     99999.000000    1617.000000  4.000089e+08    2376.180000   \n",
       "\n",
       "            이동거리(M)        이용시간(분)  \n",
       "count  1.198600e+05  119860.000000  \n",
       "mean   8.805111e+04     749.706699  \n",
       "std    1.850256e+05    1504.361808  \n",
       "min    0.000000e+00       0.000000  \n",
       "25%    7.870930e+03      76.000000  \n",
       "50%    2.830418e+04     255.000000  \n",
       "75%    9.339718e+04     812.000000  \n",
       "max    1.024219e+07   87111.000000  "
      ]
     },
     "execution_count": 11,
     "metadata": {},
     "output_type": "execute_result"
    }
   ],
   "source": [
    "# 기초통계정보 \n",
    "bike.describe()"
   ]
  },
  {
   "cell_type": "markdown",
   "metadata": {
    "id": "etPLyqBrXLY0"
   },
   "source": [
    "**4) 결측치 확인**"
   ]
  },
  {
   "cell_type": "code",
   "execution_count": 12,
   "metadata": {
    "id": "JNjUwfhwXPjq",
    "scrolled": true
   },
   "outputs": [
    {
     "data": {
      "text/plain": [
       "대여일자           0\n",
       "대여소번호          0\n",
       "대여소명           0\n",
       "대여구분코드         0\n",
       "성별         52158\n",
       "연령대코드          0\n",
       "이용건수           0\n",
       "운동량          162\n",
       "탄소량          162\n",
       "이동거리(M)        0\n",
       "이용시간(분)        0\n",
       "dtype: int64"
      ]
     },
     "execution_count": 12,
     "metadata": {},
     "output_type": "execute_result"
    }
   ],
   "source": [
    "# 결측치 확인\n",
    "bike.isna().sum()"
   ]
  },
  {
   "cell_type": "markdown",
   "metadata": {
    "id": "He81NI5TfjDZ"
   },
   "source": [
    "**5) 범주형 데이터 확인**"
   ]
  },
  {
   "cell_type": "markdown",
   "metadata": {
    "id": "0vDpa3mtfjDZ"
   },
   "source": [
    "- 대여구분코드"
   ]
  },
  {
   "cell_type": "code",
   "execution_count": 13,
   "metadata": {
    "id": "9OuNEDwDyb7y",
    "scrolled": true
   },
   "outputs": [
    {
     "data": {
      "text/plain": [
       "정기         60530\n",
       "일일(회원)     45514\n",
       "단체          8914\n",
       "일일(비회원)     2804\n",
       "10분이용권      2098\n",
       "Name: 대여구분코드, dtype: int64"
      ]
     },
     "execution_count": 13,
     "metadata": {},
     "output_type": "execute_result"
    }
   ],
   "source": [
    "# 대여구분코드\n",
    "bike['대여구분코드'].value_counts()"
   ]
  },
  {
   "cell_type": "markdown",
   "metadata": {
    "id": "DOk1H6xefjDZ"
   },
   "source": [
    "- 성별"
   ]
  },
  {
   "cell_type": "code",
   "execution_count": 14,
   "metadata": {
    "id": "qlJShcawyib6",
    "scrolled": true
   },
   "outputs": [
    {
     "data": {
      "text/plain": [
       "M    35383\n",
       "F    32290\n",
       "m       19\n",
       "f       10\n",
       "Name: 성별, dtype: int64"
      ]
     },
     "execution_count": 14,
     "metadata": {},
     "output_type": "execute_result"
    }
   ],
   "source": [
    "# 성별\n",
    "bike['성별'].value_counts()"
   ]
  },
  {
   "cell_type": "markdown",
   "metadata": {
    "id": "WFSlP0KufjDa"
   },
   "source": [
    "- 연령대코드"
   ]
  },
  {
   "cell_type": "code",
   "execution_count": 15,
   "metadata": {
    "id": "IqnVl3XcymKT",
    "scrolled": true
   },
   "outputs": [
    {
     "data": {
      "text/plain": [
       "AGE_002    21982\n",
       "AGE_003    19610\n",
       "AGE_008    19395\n",
       "AGE_004    18575\n",
       "AGE_001    14720\n",
       "AGE_005    14555\n",
       "AGE_006     8180\n",
       "AGE_007     2843\n",
       "Name: 연령대코드, dtype: int64"
      ]
     },
     "execution_count": 15,
     "metadata": {},
     "output_type": "execute_result"
    }
   ],
   "source": [
    "# 연령대코드\n",
    "bike['연령대코드'].value_counts()"
   ]
  },
  {
   "cell_type": "markdown",
   "metadata": {
    "id": "NdgmZo18fjDa"
   },
   "source": [
    "- 대여소명"
   ]
  },
  {
   "cell_type": "code",
   "execution_count": 16,
   "metadata": {
    "id": "a4ZnKFjByyv6",
    "scrolled": true
   },
   "outputs": [
    {
     "data": {
      "text/plain": [
       "502. 뚝섬유원지역 1번출구 앞    85\n",
       "207. 여의나루역 1번출구 앞     85\n",
       "152. 마포구민체육센터 앞       84\n",
       "2715.마곡나루역 2번 출구      81\n",
       "2622. 올림픽공원역 3번출구     79\n",
       "                      ..\n",
       "상암센터 정비실               2\n",
       "4322.서울추모공원 입구         1\n",
       "도봉정비센터                 1\n",
       "99999. 영남단말기정비         1\n",
       "천호센터                   1\n",
       "Name: 대여소명, Length: 2471, dtype: int64"
      ]
     },
     "execution_count": 16,
     "metadata": {},
     "output_type": "execute_result"
    }
   ],
   "source": [
    "# 대여소명\n",
    "bike['대여소명'].value_counts()"
   ]
  },
  {
   "cell_type": "markdown",
   "metadata": {
    "id": "YNUv-USzuLiW"
   },
   "source": [
    "## 3.데이터 전처리"
   ]
  },
  {
   "cell_type": "markdown",
   "metadata": {
    "id": "h54wZpNy1V4E"
   },
   "source": [
    "**1) 결측치 제거**"
   ]
  },
  {
   "cell_type": "code",
   "execution_count": 19,
   "metadata": {
    "id": "rCKtycsTwn-9",
    "scrolled": true
   },
   "outputs": [
    {
     "data": {
      "text/html": [
       "<div>\n",
       "<style scoped>\n",
       "    .dataframe tbody tr th:only-of-type {\n",
       "        vertical-align: middle;\n",
       "    }\n",
       "\n",
       "    .dataframe tbody tr th {\n",
       "        vertical-align: top;\n",
       "    }\n",
       "\n",
       "    .dataframe thead th {\n",
       "        text-align: right;\n",
       "    }\n",
       "</style>\n",
       "<table border=\"1\" class=\"dataframe\">\n",
       "  <thead>\n",
       "    <tr style=\"text-align: right;\">\n",
       "      <th></th>\n",
       "      <th>대여일자</th>\n",
       "      <th>대여소번호</th>\n",
       "      <th>대여소명</th>\n",
       "      <th>대여구분코드</th>\n",
       "      <th>성별</th>\n",
       "      <th>연령대코드</th>\n",
       "      <th>이용건수</th>\n",
       "      <th>운동량</th>\n",
       "      <th>탄소량</th>\n",
       "      <th>이동거리(M)</th>\n",
       "      <th>이용시간(분)</th>\n",
       "    </tr>\n",
       "  </thead>\n",
       "  <tbody>\n",
       "    <tr>\n",
       "      <th>0</th>\n",
       "      <td>2021-06</td>\n",
       "      <td>3</td>\n",
       "      <td>중랑센터</td>\n",
       "      <td>일일(회원)</td>\n",
       "      <td>F</td>\n",
       "      <td>AGE_003</td>\n",
       "      <td>1</td>\n",
       "      <td>11.23</td>\n",
       "      <td>0.12</td>\n",
       "      <td>506.18</td>\n",
       "      <td>17</td>\n",
       "    </tr>\n",
       "    <tr>\n",
       "      <th>1</th>\n",
       "      <td>2021-06</td>\n",
       "      <td>3</td>\n",
       "      <td>중랑센터</td>\n",
       "      <td>정기</td>\n",
       "      <td>NaN</td>\n",
       "      <td>AGE_003</td>\n",
       "      <td>2</td>\n",
       "      <td>107.00</td>\n",
       "      <td>0.79</td>\n",
       "      <td>3377.56</td>\n",
       "      <td>17</td>\n",
       "    </tr>\n",
       "    <tr>\n",
       "      <th>2</th>\n",
       "      <td>2021-06</td>\n",
       "      <td>3</td>\n",
       "      <td>중랑센터</td>\n",
       "      <td>정기</td>\n",
       "      <td>M</td>\n",
       "      <td>AGE_002</td>\n",
       "      <td>6</td>\n",
       "      <td>352.15</td>\n",
       "      <td>3.18</td>\n",
       "      <td>13680.88</td>\n",
       "      <td>81</td>\n",
       "    </tr>\n",
       "    <tr>\n",
       "      <th>3</th>\n",
       "      <td>2021-06</td>\n",
       "      <td>3</td>\n",
       "      <td>중랑센터</td>\n",
       "      <td>정기</td>\n",
       "      <td>M</td>\n",
       "      <td>AGE_004</td>\n",
       "      <td>3</td>\n",
       "      <td>61.55</td>\n",
       "      <td>0.50</td>\n",
       "      <td>2158.72</td>\n",
       "      <td>21</td>\n",
       "    </tr>\n",
       "    <tr>\n",
       "      <th>4</th>\n",
       "      <td>2021-06</td>\n",
       "      <td>3</td>\n",
       "      <td>중랑센터</td>\n",
       "      <td>정기</td>\n",
       "      <td>M</td>\n",
       "      <td>AGE_005</td>\n",
       "      <td>3</td>\n",
       "      <td>125.30</td>\n",
       "      <td>1.10</td>\n",
       "      <td>4722.60</td>\n",
       "      <td>36</td>\n",
       "    </tr>\n",
       "  </tbody>\n",
       "</table>\n",
       "</div>"
      ],
      "text/plain": [
       "      대여일자  대여소번호  대여소명  대여구분코드   성별    연령대코드  이용건수     운동량   탄소량   이동거리(M)  \\\n",
       "0  2021-06      3  중랑센터  일일(회원)    F  AGE_003     1   11.23  0.12    506.18   \n",
       "1  2021-06      3  중랑센터      정기  NaN  AGE_003     2  107.00  0.79   3377.56   \n",
       "2  2021-06      3  중랑센터      정기    M  AGE_002     6  352.15  3.18  13680.88   \n",
       "3  2021-06      3  중랑센터      정기    M  AGE_004     3   61.55  0.50   2158.72   \n",
       "4  2021-06      3  중랑센터      정기    M  AGE_005     3  125.30  1.10   4722.60   \n",
       "\n",
       "   이용시간(분)  \n",
       "0       17  \n",
       "1       17  \n",
       "2       81  \n",
       "3       21  \n",
       "4       36  "
      ]
     },
     "execution_count": 19,
     "metadata": {},
     "output_type": "execute_result"
    }
   ],
   "source": [
    "bike.dropna(subset=['운동량'], axis=0,inplace = True)\n",
    "\n",
    "bike.head(5)"
   ]
  },
  {
   "cell_type": "code",
   "execution_count": 20,
   "metadata": {},
   "outputs": [
    {
     "data": {
      "text/html": [
       "<div>\n",
       "<style scoped>\n",
       "    .dataframe tbody tr th:only-of-type {\n",
       "        vertical-align: middle;\n",
       "    }\n",
       "\n",
       "    .dataframe tbody tr th {\n",
       "        vertical-align: top;\n",
       "    }\n",
       "\n",
       "    .dataframe thead th {\n",
       "        text-align: right;\n",
       "    }\n",
       "</style>\n",
       "<table border=\"1\" class=\"dataframe\">\n",
       "  <thead>\n",
       "    <tr style=\"text-align: right;\">\n",
       "      <th></th>\n",
       "      <th>대여일자</th>\n",
       "      <th>대여소번호</th>\n",
       "      <th>대여소명</th>\n",
       "      <th>대여구분코드</th>\n",
       "      <th>성별</th>\n",
       "      <th>연령대코드</th>\n",
       "      <th>이용건수</th>\n",
       "      <th>운동량</th>\n",
       "      <th>탄소량</th>\n",
       "      <th>이동거리(M)</th>\n",
       "      <th>이용시간(분)</th>\n",
       "    </tr>\n",
       "  </thead>\n",
       "  <tbody>\n",
       "    <tr>\n",
       "      <th>0</th>\n",
       "      <td>2021-06</td>\n",
       "      <td>3</td>\n",
       "      <td>중랑센터</td>\n",
       "      <td>일일(회원)</td>\n",
       "      <td>F</td>\n",
       "      <td>AGE_003</td>\n",
       "      <td>1</td>\n",
       "      <td>11.23</td>\n",
       "      <td>0.12</td>\n",
       "      <td>506.18</td>\n",
       "      <td>17</td>\n",
       "    </tr>\n",
       "    <tr>\n",
       "      <th>1</th>\n",
       "      <td>2021-06</td>\n",
       "      <td>3</td>\n",
       "      <td>중랑센터</td>\n",
       "      <td>정기</td>\n",
       "      <td>NaN</td>\n",
       "      <td>AGE_003</td>\n",
       "      <td>2</td>\n",
       "      <td>107.00</td>\n",
       "      <td>0.79</td>\n",
       "      <td>3377.56</td>\n",
       "      <td>17</td>\n",
       "    </tr>\n",
       "    <tr>\n",
       "      <th>2</th>\n",
       "      <td>2021-06</td>\n",
       "      <td>3</td>\n",
       "      <td>중랑센터</td>\n",
       "      <td>정기</td>\n",
       "      <td>M</td>\n",
       "      <td>AGE_002</td>\n",
       "      <td>6</td>\n",
       "      <td>352.15</td>\n",
       "      <td>3.18</td>\n",
       "      <td>13680.88</td>\n",
       "      <td>81</td>\n",
       "    </tr>\n",
       "    <tr>\n",
       "      <th>3</th>\n",
       "      <td>2021-06</td>\n",
       "      <td>3</td>\n",
       "      <td>중랑센터</td>\n",
       "      <td>정기</td>\n",
       "      <td>M</td>\n",
       "      <td>AGE_004</td>\n",
       "      <td>3</td>\n",
       "      <td>61.55</td>\n",
       "      <td>0.50</td>\n",
       "      <td>2158.72</td>\n",
       "      <td>21</td>\n",
       "    </tr>\n",
       "    <tr>\n",
       "      <th>4</th>\n",
       "      <td>2021-06</td>\n",
       "      <td>3</td>\n",
       "      <td>중랑센터</td>\n",
       "      <td>정기</td>\n",
       "      <td>M</td>\n",
       "      <td>AGE_005</td>\n",
       "      <td>3</td>\n",
       "      <td>125.30</td>\n",
       "      <td>1.10</td>\n",
       "      <td>4722.60</td>\n",
       "      <td>36</td>\n",
       "    </tr>\n",
       "  </tbody>\n",
       "</table>\n",
       "</div>"
      ],
      "text/plain": [
       "      대여일자  대여소번호  대여소명  대여구분코드   성별    연령대코드  이용건수     운동량   탄소량   이동거리(M)  \\\n",
       "0  2021-06      3  중랑센터  일일(회원)    F  AGE_003     1   11.23  0.12    506.18   \n",
       "1  2021-06      3  중랑센터      정기  NaN  AGE_003     2  107.00  0.79   3377.56   \n",
       "2  2021-06      3  중랑센터      정기    M  AGE_002     6  352.15  3.18  13680.88   \n",
       "3  2021-06      3  중랑센터      정기    M  AGE_004     3   61.55  0.50   2158.72   \n",
       "4  2021-06      3  중랑센터      정기    M  AGE_005     3  125.30  1.10   4722.60   \n",
       "\n",
       "   이용시간(분)  \n",
       "0       17  \n",
       "1       17  \n",
       "2       81  \n",
       "3       21  \n",
       "4       36  "
      ]
     },
     "execution_count": 20,
     "metadata": {},
     "output_type": "execute_result"
    }
   ],
   "source": [
    "bike.dropna(subset=['탄소량'], axis=0,inplace = True)\n",
    "\n",
    "bike.head(5)"
   ]
  },
  {
   "cell_type": "markdown",
   "metadata": {
    "id": "laI21acz1aDd"
   },
   "source": [
    "**2) 결측치 채우기**"
   ]
  },
  {
   "cell_type": "code",
   "execution_count": 21,
   "metadata": {
    "id": "rh1ZPDFOyD3u",
    "scrolled": true
   },
   "outputs": [
    {
     "data": {
      "text/plain": [
       "X    52070\n",
       "M    35348\n",
       "F    32251\n",
       "m       19\n",
       "f       10\n",
       "Name: 성별, dtype: int64"
      ]
     },
     "execution_count": 21,
     "metadata": {},
     "output_type": "execute_result"
    }
   ],
   "source": [
    "bike['성별'].fillna('X', inplace=True)\n",
    "\n",
    "bike['성별'].value_counts()"
   ]
  },
  {
   "cell_type": "markdown",
   "metadata": {
    "id": "Rob2jyHX1dir"
   },
   "source": [
    "**3) 데이터 변경**"
   ]
  },
  {
   "cell_type": "code",
   "execution_count": 22,
   "metadata": {
    "id": "yE_L0aEay_XH",
    "scrolled": true
   },
   "outputs": [],
   "source": [
    "bike['성별'] = bike['성별'].map({'X':'X', 'M':'M', 'F':'F', 'f':'F','m':'M'})"
   ]
  },
  {
   "cell_type": "code",
   "execution_count": 23,
   "metadata": {},
   "outputs": [
    {
     "data": {
      "text/plain": [
       "X    52070\n",
       "M    35367\n",
       "F    32261\n",
       "Name: 성별, dtype: int64"
      ]
     },
     "execution_count": 23,
     "metadata": {},
     "output_type": "execute_result"
    }
   ],
   "source": [
    "bike['성별'].value_counts()"
   ]
  },
  {
   "cell_type": "code",
   "execution_count": 24,
   "metadata": {
    "id": "LsGpe7zn0j4D",
    "scrolled": true
   },
   "outputs": [
    {
     "data": {
      "text/plain": [
       "20대    21962\n",
       "30대    19589\n",
       "80대    19373\n",
       "40대    18549\n",
       "10대    14697\n",
       "50대    14526\n",
       "60대     8166\n",
       "70대     2836\n",
       "Name: 연령대코드, dtype: int64"
      ]
     },
     "execution_count": 24,
     "metadata": {},
     "output_type": "execute_result"
    }
   ],
   "source": [
    "bike['연령대코드'] = bike['연령대코드'].map({'AGE_001':'10대', 'AGE_002':'20대', 'AGE_003':'30대','AGE_004':'40대', 'AGE_005':'50대', 'AGE_006':'60대', 'AGE_007':'70대', 'AGE_008':'80대'})\n",
    "bike['연령대코드'].value_counts()"
   ]
  },
  {
   "cell_type": "markdown",
   "metadata": {
    "id": "1M0pm1He1uZU"
   },
   "source": [
    "**4) 불필요한 열 제거**"
   ]
  },
  {
   "cell_type": "code",
   "execution_count": 27,
   "metadata": {
    "id": "lyNCUjAr0RjY"
   },
   "outputs": [
    {
     "data": {
      "text/html": [
       "<div>\n",
       "<style scoped>\n",
       "    .dataframe tbody tr th:only-of-type {\n",
       "        vertical-align: middle;\n",
       "    }\n",
       "\n",
       "    .dataframe tbody tr th {\n",
       "        vertical-align: top;\n",
       "    }\n",
       "\n",
       "    .dataframe thead th {\n",
       "        text-align: right;\n",
       "    }\n",
       "</style>\n",
       "<table border=\"1\" class=\"dataframe\">\n",
       "  <thead>\n",
       "    <tr style=\"text-align: right;\">\n",
       "      <th></th>\n",
       "      <th>대여소명</th>\n",
       "      <th>대여구분코드</th>\n",
       "      <th>성별</th>\n",
       "      <th>연령대코드</th>\n",
       "      <th>이용건수</th>\n",
       "      <th>운동량</th>\n",
       "      <th>탄소량</th>\n",
       "      <th>이동거리(M)</th>\n",
       "      <th>이용시간(분)</th>\n",
       "    </tr>\n",
       "  </thead>\n",
       "  <tbody>\n",
       "    <tr>\n",
       "      <th>0</th>\n",
       "      <td>중랑센터</td>\n",
       "      <td>일일(회원)</td>\n",
       "      <td>F</td>\n",
       "      <td>30대</td>\n",
       "      <td>1</td>\n",
       "      <td>11.23</td>\n",
       "      <td>0.12</td>\n",
       "      <td>506.18</td>\n",
       "      <td>17</td>\n",
       "    </tr>\n",
       "    <tr>\n",
       "      <th>1</th>\n",
       "      <td>중랑센터</td>\n",
       "      <td>정기</td>\n",
       "      <td>X</td>\n",
       "      <td>30대</td>\n",
       "      <td>2</td>\n",
       "      <td>107.00</td>\n",
       "      <td>0.79</td>\n",
       "      <td>3377.56</td>\n",
       "      <td>17</td>\n",
       "    </tr>\n",
       "    <tr>\n",
       "      <th>2</th>\n",
       "      <td>중랑센터</td>\n",
       "      <td>정기</td>\n",
       "      <td>M</td>\n",
       "      <td>20대</td>\n",
       "      <td>6</td>\n",
       "      <td>352.15</td>\n",
       "      <td>3.18</td>\n",
       "      <td>13680.88</td>\n",
       "      <td>81</td>\n",
       "    </tr>\n",
       "    <tr>\n",
       "      <th>3</th>\n",
       "      <td>중랑센터</td>\n",
       "      <td>정기</td>\n",
       "      <td>M</td>\n",
       "      <td>40대</td>\n",
       "      <td>3</td>\n",
       "      <td>61.55</td>\n",
       "      <td>0.50</td>\n",
       "      <td>2158.72</td>\n",
       "      <td>21</td>\n",
       "    </tr>\n",
       "    <tr>\n",
       "      <th>4</th>\n",
       "      <td>중랑센터</td>\n",
       "      <td>정기</td>\n",
       "      <td>M</td>\n",
       "      <td>50대</td>\n",
       "      <td>3</td>\n",
       "      <td>125.30</td>\n",
       "      <td>1.10</td>\n",
       "      <td>4722.60</td>\n",
       "      <td>36</td>\n",
       "    </tr>\n",
       "  </tbody>\n",
       "</table>\n",
       "</div>"
      ],
      "text/plain": [
       "   대여소명  대여구분코드 성별 연령대코드  이용건수     운동량   탄소량   이동거리(M)  이용시간(분)\n",
       "0  중랑센터  일일(회원)  F   30대     1   11.23  0.12    506.18       17\n",
       "1  중랑센터      정기  X   30대     2  107.00  0.79   3377.56       17\n",
       "2  중랑센터      정기  M   20대     6  352.15  3.18  13680.88       81\n",
       "3  중랑센터      정기  M   40대     3   61.55  0.50   2158.72       21\n",
       "4  중랑센터      정기  M   50대     3  125.30  1.10   4722.60       36"
      ]
     },
     "execution_count": 27,
     "metadata": {},
     "output_type": "execute_result"
    }
   ],
   "source": [
    "bike.drop(['대여일자','대여소번호'],axis=1,inplace=True)\n",
    "\n",
    "bike.head(5)"
   ]
  },
  {
   "cell_type": "markdown",
   "metadata": {
    "id": "cb5bc7202P4X"
   },
   "source": [
    "**5) 열 이름 변경**\n",
    "\n",
    "    - 대여소명 --> 대여소\n",
    "    - 대여구분코드 --> 대여구분\n",
    "    - 연령대코드  --> 연령대\n",
    "    - 이동거리(M) --> 이동거리\n",
    "    - 이용시간(분) --> 이용시간"
   ]
  },
  {
   "cell_type": "code",
   "execution_count": 28,
   "metadata": {
    "id": "MUjdjmzT2T8r"
   },
   "outputs": [
    {
     "data": {
      "text/html": [
       "<div>\n",
       "<style scoped>\n",
       "    .dataframe tbody tr th:only-of-type {\n",
       "        vertical-align: middle;\n",
       "    }\n",
       "\n",
       "    .dataframe tbody tr th {\n",
       "        vertical-align: top;\n",
       "    }\n",
       "\n",
       "    .dataframe thead th {\n",
       "        text-align: right;\n",
       "    }\n",
       "</style>\n",
       "<table border=\"1\" class=\"dataframe\">\n",
       "  <thead>\n",
       "    <tr style=\"text-align: right;\">\n",
       "      <th></th>\n",
       "      <th>대여소</th>\n",
       "      <th>대여구분</th>\n",
       "      <th>성별</th>\n",
       "      <th>연령대</th>\n",
       "      <th>이용건수</th>\n",
       "      <th>운동량</th>\n",
       "      <th>탄소량</th>\n",
       "      <th>이동거리</th>\n",
       "      <th>이용시간</th>\n",
       "    </tr>\n",
       "  </thead>\n",
       "  <tbody>\n",
       "    <tr>\n",
       "      <th>0</th>\n",
       "      <td>중랑센터</td>\n",
       "      <td>일일(회원)</td>\n",
       "      <td>F</td>\n",
       "      <td>30대</td>\n",
       "      <td>1</td>\n",
       "      <td>11.23</td>\n",
       "      <td>0.12</td>\n",
       "      <td>506.18</td>\n",
       "      <td>17</td>\n",
       "    </tr>\n",
       "    <tr>\n",
       "      <th>1</th>\n",
       "      <td>중랑센터</td>\n",
       "      <td>정기</td>\n",
       "      <td>X</td>\n",
       "      <td>30대</td>\n",
       "      <td>2</td>\n",
       "      <td>107.00</td>\n",
       "      <td>0.79</td>\n",
       "      <td>3377.56</td>\n",
       "      <td>17</td>\n",
       "    </tr>\n",
       "    <tr>\n",
       "      <th>2</th>\n",
       "      <td>중랑센터</td>\n",
       "      <td>정기</td>\n",
       "      <td>M</td>\n",
       "      <td>20대</td>\n",
       "      <td>6</td>\n",
       "      <td>352.15</td>\n",
       "      <td>3.18</td>\n",
       "      <td>13680.88</td>\n",
       "      <td>81</td>\n",
       "    </tr>\n",
       "    <tr>\n",
       "      <th>3</th>\n",
       "      <td>중랑센터</td>\n",
       "      <td>정기</td>\n",
       "      <td>M</td>\n",
       "      <td>40대</td>\n",
       "      <td>3</td>\n",
       "      <td>61.55</td>\n",
       "      <td>0.50</td>\n",
       "      <td>2158.72</td>\n",
       "      <td>21</td>\n",
       "    </tr>\n",
       "    <tr>\n",
       "      <th>4</th>\n",
       "      <td>중랑센터</td>\n",
       "      <td>정기</td>\n",
       "      <td>M</td>\n",
       "      <td>50대</td>\n",
       "      <td>3</td>\n",
       "      <td>125.30</td>\n",
       "      <td>1.10</td>\n",
       "      <td>4722.60</td>\n",
       "      <td>36</td>\n",
       "    </tr>\n",
       "  </tbody>\n",
       "</table>\n",
       "</div>"
      ],
      "text/plain": [
       "    대여소    대여구분 성별  연령대  이용건수     운동량   탄소량      이동거리  이용시간\n",
       "0  중랑센터  일일(회원)  F  30대     1   11.23  0.12    506.18    17\n",
       "1  중랑센터      정기  X  30대     2  107.00  0.79   3377.56    17\n",
       "2  중랑센터      정기  M  20대     6  352.15  3.18  13680.88    81\n",
       "3  중랑센터      정기  M  40대     3   61.55  0.50   2158.72    21\n",
       "4  중랑센터      정기  M  50대     3  125.30  1.10   4722.60    36"
      ]
     },
     "execution_count": 28,
     "metadata": {},
     "output_type": "execute_result"
    }
   ],
   "source": [
    "bike.rename(columns={'대여소명':'대여소', '대여구분코드':'대여구분', '연령대코드':'연령대', '이동거리(M)':'이동거리', '이용시간(분)':'이용시간'}, inplace=True)\n",
    "bike.head(5)"
   ]
  },
  {
   "cell_type": "markdown",
   "metadata": {
    "id": "gAYdREQRrqyC"
   },
   "source": [
    "## 4.데이터 분석"
   ]
  },
  {
   "cell_type": "markdown",
   "metadata": {
    "id": "CNHidwU4fjDe"
   },
   "source": [
    "**1) 대여구분별 이용 건수**\n",
    "\n",
    "- 대여구분별 이용 건수를 막대 그래프로 시각화"
   ]
  },
  {
   "cell_type": "code",
   "execution_count": 39,
   "metadata": {
    "id": "dswgjzwv2GVv",
    "scrolled": true
   },
   "outputs": [
    {
     "data": {
      "image/png": "[encoded data removed]",
      "text/plain": [
       "<Figure size 432x288 with 1 Axes>"
      ]
     },
     "metadata": {
      "image/png": {
       "height": 249,
       "width": 378
      },
      "needs_background": "light"
     },
     "output_type": "display_data"
    }
   ],
   "source": [
    "temp = bike.groupby(by = '대여구분', as_index=False)[['이용건수']].sum()\n",
    "\n",
    "plt.bar(temp['대여구분'], temp['이용건수'] / 1000)\n",
    "plt.show()"
   ]
  },
  {
   "cell_type": "markdown",
   "metadata": {
    "id": "E99lxB1rfjDe"
   },
   "source": [
    "**2) 대여소별 이용 건수 TOP 10**\n",
    "\n",
    "- 대여소별 이용 건수 TOP 10을 막대 그래프로 시각화."
   ]
  },
  {
   "cell_type": "code",
   "execution_count": 45,
   "metadata": {
    "id": "Ad2rrnhD36rZ",
    "scrolled": false
   },
   "outputs": [
    {
     "data": {
      "image/png": "[encoded data removed]",
      "text/plain": [
       "<Figure size 432x288 with 1 Axes>"
      ]
     },
     "metadata": {
      "image/png": {
       "height": 377,
       "width": 383
      },
      "needs_background": "light"
     },
     "output_type": "display_data"
    }
   ],
   "source": [
    "# 대여소별 이용건수 TOP 10\n",
    "top_10 = bike.groupby(by='대여소', as_index=False)[['이용건수']].sum()\n",
    "top_10 = top_10.sort_values(by='이용건수', ascending=False).head(10)\n",
    "\n",
    "\n",
    "plt.bar(top_10['대여소'],top_10['이용건수'])\n",
    "plt.xticks(rotation=90, fontsize=8)\n",
    "plt.show()"
   ]
  },
  {
   "cell_type": "markdown",
   "metadata": {
    "id": "3FAp2e7afjDf"
   },
   "source": [
    "**3) (옵션) 연령대별 이용 건수**\n",
    "\n",
    "- 연령대별 이용 건수를 막대 그래프로 시각화"
   ]
  },
  {
   "cell_type": "code",
   "execution_count": 47,
   "metadata": {
    "id": "cs202Jxt4qpB",
    "scrolled": true
   },
   "outputs": [
    {
     "data": {
      "image/png": "[encoded data removed]",
      "text/plain": [
       "<Figure size 432x288 with 1 Axes>"
      ]
     },
     "metadata": {
      "image/png": {
       "height": 260,
       "width": 369
      },
      "needs_background": "light"
     },
     "output_type": "display_data"
    }
   ],
   "source": [
    "age = bike.groupby(by='연령대', as_index=False)[['이용건수']].sum()\n",
    "\n",
    "plt.bar(age['연령대'], age['이용건수'])\n",
    "plt.show()"
   ]
  },
  {
   "cell_type": "markdown",
   "metadata": {
    "id": "7GdrzE9efjDf"
   },
   "source": [
    "**4) (옵션) 성별별 이용 건수**\n",
    "\n",
    "- 성별별 이용 건수를 막대 그래프로 시각화"
   ]
  },
  {
   "cell_type": "code",
   "execution_count": 48,
   "metadata": {
    "id": "8Kof9B6C5Rgj",
    "scrolled": true
   },
   "outputs": [
    {
     "data": {
      "image/png": "[encoded data removed]",
      "text/plain": [
       "<Figure size 432x288 with 1 Axes>"
      ]
     },
     "metadata": {
      "image/png": {
       "height": 260,
       "width": 369
      },
      "needs_background": "light"
     },
     "output_type": "display_data"
    }
   ],
   "source": [
    "gender = bike.groupby(by='성별', as_index=False)[['이용건수']].sum()\n",
    "\n",
    "plt.bar(gender['성별'], gender['이용건수'])\n",
    "plt.show()"
   ]
  }
 ],
 "metadata": {
  "colab": {
   "collapsed_sections": [],
   "name": "X03 - [레벨업] 서울 공공 자전거 이용현황.ipynb",
   "provenance": []
  },
  "kernelspec": {
   "display_name": "Python 3",
   "language": "python",
   "name": "python3"
  },
  "language_info": {
   "codemirror_mode": {
    "name": "ipython",
    "version": 3
   },
   "file_extension": ".py",
   "mimetype": "text/x-python",
   "name": "python",
   "nbconvert_exporter": "python",
   "pygments_lexer": "ipython3",
   "version": "3.8.8"
  }
 },
 "nbformat": 4,
 "nbformat_minor": 1
}
